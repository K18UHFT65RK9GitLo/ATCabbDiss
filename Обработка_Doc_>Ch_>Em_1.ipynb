{
  "nbformat": 4,
  "nbformat_minor": 0,
  "metadata": {
    "colab": {
      "provenance": [],
      "collapsed_sections": [
        "rgA0ybNbRw2_",
        "8OlkEwXRsky3"
      ],
      "authorship_tag": "ABX9TyOkDFRWq1/t5s6ySy0onh66",
      "include_colab_link": true
    },
    "kernelspec": {
      "name": "python3",
      "display_name": "Python 3"
    },
    "language_info": {
      "name": "python"
    }
  },
  "cells": [
    {
      "cell_type": "markdown",
      "metadata": {
        "id": "view-in-github",
        "colab_type": "text"
      },
      "source": [
        "<a href=\"https://colab.research.google.com/github/K18UHFT65RK9GitLo/ATCabbDiss/blob/main/%D0%9E%D0%B1%D1%80%D0%B0%D0%B1%D0%BE%D1%82%D0%BA%D0%B0_Doc_%3ECh_%3EEm_1.ipynb\" target=\"_parent\"><img src=\"https://colab.research.google.com/assets/colab-badge.svg\" alt=\"Open In Colab\"/></a>"
      ]
    },
    {
      "cell_type": "markdown",
      "source": [
        "#@title 1. Installations and connections"
      ],
      "metadata": {
        "id": "nNK_e7krmElj"
      }
    },
    {
      "cell_type": "code",
      "execution_count": null,
      "metadata": {
        "id": "tPPhnBU6CsEl"
      },
      "outputs": [],
      "source": [
        "!pip install -q openai==1.58.1 langchain==0.3.13 langchain-openai==0.2.14 langchain_community==0.3.13 faiss-cpu==1.9.0.post1"
      ]
    },
    {
      "cell_type": "code",
      "source": [
        "!pip install -q python-docx"
      ],
      "metadata": {
        "id": "zNW_hTZom9rZ"
      },
      "execution_count": null,
      "outputs": []
    },
    {
      "cell_type": "code",
      "source": [
        "!pip install -q PyPDF2"
      ],
      "metadata": {
        "id": "RfO-IFuKnQwe"
      },
      "execution_count": null,
      "outputs": []
    },
    {
      "cell_type": "code",
      "source": [
        "!pip install -q -U langchain-openai"
      ],
      "metadata": {
        "id": "Wmb_5D2A-T1L"
      },
      "execution_count": null,
      "outputs": []
    },
    {
      "cell_type": "markdown",
      "source": [
        "#@title 1.1. Подключение к OpenAI"
      ],
      "metadata": {
        "id": "rgA0ybNbRw2_"
      }
    },
    {
      "cell_type": "code",
      "source": [
        "# 1.1. Подключение к OpenAI\n",
        "\n",
        "from langchain_openai import OpenAIEmbeddings\n",
        "from langchain_community.vectorstores import FAISS\n",
        "from langchain.text_splitter import RecursiveCharacterTextSplitter\n",
        "from langchain.docstore.document import Document\n",
        "from langchain.document_loaders import TextLoader\n",
        "import re\n",
        "import requests\n",
        "import textwrap\n",
        "import openai\n",
        "import os\n",
        "from google.colab import userdata\n",
        "from openai import OpenAI\n",
        "import os\n",
        "import json\n",
        "import io\n",
        "import docx\n",
        "import PyPDF2\n",
        "import xml.etree.ElementTree as ET\n",
        "\n",
        "\n",
        "\n",
        "# Использование ключа API от ProxyAPI\n",
        "key = userdata.get('myproxy')\n",
        "os.environ[\"OPENAI_API_KEY\"] = key\n",
        "\n",
        "# Адрес сервера ProxyAPI\n",
        "base_url = 'https://api.proxyapi.ru/openai/v1'\n",
        "os.environ[\"OPENAI_BASE_URL\"] = base_url\n",
        "client = OpenAI()       # создается экземпляр класса OpenAI"
      ],
      "metadata": {
        "id": "61Hw-Zf8v4Wc"
      },
      "execution_count": null,
      "outputs": []
    },
    {
      "cell_type": "code",
      "source": [
        "# 1.2 Подключение к диску\n",
        "from google.colab import drive\n",
        "drive.mount('/content/drive')"
      ],
      "metadata": {
        "colab": {
          "base_uri": "https://localhost:8080/"
        },
        "id": "DK4ZAug4J5u9",
        "outputId": "ee86983f-5f5c-4745-c506-b9c27bd4cff0"
      },
      "execution_count": null,
      "outputs": [
        {
          "output_type": "stream",
          "name": "stdout",
          "text": [
            "Drive already mounted at /content/drive; to attempt to forcibly remount, call drive.mount(\"/content/drive\", force_remount=True).\n"
          ]
        }
      ]
    },
    {
      "cell_type": "markdown",
      "source": [
        "# 1.3  Настройка пути к файлу и базового пути для сохранения\n",
        "\n",
        "FILE_PATH --->  путь к папке входящего документа фориат:  DOCX,  PDF,  XML,  TXT\n",
        "\n",
        "OUTPUT_BASE_PATH  --->  путь к папке с чанками документа формат .json\n"
      ],
      "metadata": {
        "id": "OsDO7qzpjzng"
      }
    },
    {
      "cell_type": "code",
      "source": [
        "# 1.3  Настройка пути к файлу и базового пути для сохранения\n",
        "\n",
        "#FILE_PATH -> путь к папке входящего документа фориат: DOCX, PDF, XML, TXT\n",
        "FILE_PATH = \"/content/drive/MyDrive/СТАЖИРОВКА_ЖКХ/ВХОДНЫЕ_УО_АСПЕКТ/d_asp/ФЗ от 27.07.2010 № 190-ФЗ-О теплоснабжении.docx\"  #@param {type:\"string\"}\n",
        "\n",
        "#OUTPUT_BASE_PATH -> путь к папке с чанками документа формат .json\n",
        "OUTPUT_BASE_PATH = \"/content/drive/MyDrive/СТАЖИРОВКА_ЖКХ/Отчёты\"  #@param {type:\"string\"}"
      ],
      "metadata": {
        "id": "ZllZzcBtmNRh"
      },
      "execution_count": null,
      "outputs": []
    },
    {
      "cell_type": "markdown",
      "source": [
        "#@title 2. Text to chunk"
      ],
      "metadata": {
        "id": "L3A15Uwv3EdJ"
      }
    },
    {
      "cell_type": "code",
      "source": [
        "# 2. Функции для загрузки и конвертации документов в текст\n",
        "\n",
        "def load_text_from_doc(file_path):\n",
        "    \"\"\"Загружает текст из DOCX файла.\"\"\"\n",
        "    try:\n",
        "        doc = docx.Document(file_path)\n",
        "        full_text = []\n",
        "        for paragraph in doc.paragraphs:\n",
        "            full_text.append(paragraph.text)\n",
        "        return '\\n'.join(full_text)\n",
        "    except Exception as e:\n",
        "        print(f\"Ошибка при чтении DOCX файла: {e}\")\n",
        "        return None\n",
        "\n",
        "def load_text_from_pdf(file_path):\n",
        "    \"\"\"Загружает текст из PDF файла.\"\"\"\n",
        "    try:\n",
        "        with open(file_path, 'rb') as pdf_file:\n",
        "            pdf_reader = PyPDF2.PdfReader(pdf_file)\n",
        "            full_text = []\n",
        "            for page_num in range(len(pdf_reader.pages)):\n",
        "                page = pdf_reader.pages[page_num]\n",
        "                full_text.append(page.extract_text())\n",
        "            return '\\n'.join(full_text)\n",
        "    except Exception as e:\n",
        "        print(f\"Ошибка при чтении PDF файла: {e}\")\n",
        "        return None\n",
        "\n",
        "def load_text_from_xml(file_path):\n",
        "    \"\"\"Загружает текст из XML файла.\"\"\"\n",
        "    try:\n",
        "        tree = ET.parse(file_path)\n",
        "        root = tree.getroot()\n",
        "        full_text = []\n",
        "        for element in root.iter():\n",
        "            if element.text:\n",
        "                full_text.append(element.text)\n",
        "        return '\\n'.join(full_text)\n",
        "    except Exception as e:\n",
        "        print(f\"Ошибка при чтении XML файла: {e}\")\n",
        "        return None\n",
        "\n",
        "\n",
        "def load_text_from_txt(file_path, encoding='windows-1251'):\n",
        "    \"\"\"Загружает текст из TXT файла.\"\"\"\n",
        "    try:\n",
        "        with open(file_path, \"r\", encoding=encoding) as f:\n",
        "            return f.read()\n",
        "    except Exception as e:\n",
        "        print(f\"Ошибка при чтении TXT файла: {e}\")\n",
        "        return None\n",
        "\n",
        "def load_document(file_path, encoding='windows-1251'): # default encoding\n",
        "    \"\"\"Загружает текст из файла, автоматически определяя формат.\"\"\"\n",
        "    file_extension = os.path.splitext(file_path)[1].lower()\n",
        "\n",
        "    if file_extension == \".docx\":\n",
        "        return load_text_from_doc(file_path)\n",
        "    elif file_extension == \".pdf\":\n",
        "        return load_text_from_pdf(file_path)\n",
        "    elif file_extension == \".xml\":\n",
        "        return load_text_from_xml(file_path)\n",
        "    elif file_extension == \".txt\":\n",
        "        return load_text_from_txt(file_path, encoding)\n",
        "    else:\n",
        "        print(\"Неподдерживаемый формат файла.\")\n",
        "        return None\n"
      ],
      "metadata": {
        "id": "ZK69ZZ0lqYyF"
      },
      "execution_count": null,
      "outputs": []
    },
    {
      "cell_type": "code",
      "source": [
        "import re\n",
        "import os\n",
        "\n",
        "# 3. Функция разделения документа на чанки\n",
        "def split_document(text, document_title):\n",
        "\n",
        "    if not text:\n",
        "        print(\"Текст для разделения отсутствует.\")\n",
        "        return []\n",
        "\n",
        "    # Разделители\n",
        "    chapter_separator = r\"^\\s*Глава\\s+\\d+\\..*\"\n",
        "    article_separator = r\"^\\s*Статья\\s+\\d+\\..*\"\n",
        "\n",
        "    # Результат - список чанков с метаданными\n",
        "    chunks = []\n",
        "    global_metadata = {\"document_title\": document_title}\n",
        "\n",
        "    # Разделяем на главы и статьи\n",
        "    parts = re.split(f\"({chapter_separator}|{article_separator})\", text, flags=re.MULTILINE)\n",
        "\n",
        "    current_chapter = None\n",
        "    current_chapter_description = \"\"\n",
        "    current_article = None\n",
        "\n",
        "    for i in range(1, len(parts), 2):  # Iterate through separators and content\n",
        "        separator = parts[i]\n",
        "        content = parts[i + 1].strip() if i + 1 < len(parts) else \"\"\n",
        "\n",
        "        if re.match(chapter_separator, separator):\n",
        "            current_chapter = separator.strip()\n",
        "            current_chapter_description = content  # Chapter description is immediately after the chapter title\n",
        "        elif re.match(article_separator, separator):\n",
        "            current_article = separator.strip()\n",
        "            chunk = {\n",
        "                \"page_content\": content,\n",
        "                \"metadata\": {\n",
        "                    \"global\": global_metadata,\n",
        "                    \"chapter\": current_chapter,\n",
        "                    \"chapter_description\": current_chapter_description,\n",
        "                    \"article\": current_article\n",
        "                }\n",
        "            }\n",
        "            chunks.append(chunk)\n",
        "            current_chapter_description = \"\" # reset\n",
        "        else:  # Content without a separator, usually part of a previous article\n",
        "             if chunks: # if we already have an article\n",
        "                chunks[-1][\"page_content\"] += \"\\n\" + content # append to last article\n",
        "             elif current_chapter_description: # if no article, but have chapter desc\n",
        "                 current_chapter_description += \"\\n\" + content #append to chapter desc\n",
        "             else:\n",
        "                 print(f\"Warning: orphaned text found: {content[:50]}...\") # orphan.\n",
        "\n",
        "    return chunks\n",
        "\n",
        "\n",
        "def save_chunks_to_txt(chunks, file_path):\n",
        "    \"\"\"Сохраняет список чанков в файл в формате TXT.\"\"\"\n",
        "    try:\n",
        "        with open(file_path, \"w\", encoding=\"utf-8\") as f:\n",
        "            for i, chunk in enumerate(chunks):\n",
        "                f.write(f\"Chunk {i+1}:\\n\")\n",
        "                f.write(f\"  page_content: {chunk['page_content']}\\n\")\n",
        "                f.write(\"  metadata:\\n\")\n",
        "                for key, value in chunk['metadata'].items():\n",
        "                    if isinstance(value, dict):\n",
        "                        f.write(f\"    {key}:\\n\")\n",
        "                        for sub_key, sub_value in value.items():\n",
        "                            f.write(f\"      {sub_key}: {sub_value}\\n\")\n",
        "                    else:\n",
        "                        f.write(f\"    {key}: {value}\\n\")\n",
        "                f.write(\"-\" * 40 + \"\\n\")\n",
        "        print(f\"Чанки сохранены в файл: {file_path}\")\n",
        "    except Exception as e:\n",
        "        print(f\"Ошибка при сохранении чанков в файл: {e}\")\n",
        "\n",
        "text = load_document(FILE_PATH, encoding='windows-1251')\n",
        "document_title = os.path.basename(FILE_PATH) # or \"Your Document Title\"\n",
        "chunks = split_document(text, document_title)\n",
        "save_chunks_to_txt(chunks, \"output.txt\")\n",
        "\n",
        "# 4. Функция для сохранения чанков в файл\n",
        "\n",
        "def save_chunks_to_file(chunks, file_path):\n",
        "    \"\"\"Сохраняет список чанков в файл в формате JSON.\"\"\"\n",
        "    try:\n",
        "        with open(file_path, \"w\", encoding=\"utf-8\") as f:\n",
        "            json.dump(chunks, f, indent=4, ensure_ascii=False)  # Сохраняем в формате JSON\n",
        "        print(f\"Чанки сохранены в файл: {file_path}\")\n",
        "    except Exception as e:\n",
        "        print(f\"Ошибка при сохранении чанков в файл: {e}\")\n",
        "\n",
        "# 5. Основной код выполнения\n",
        "# 1. Загружаем текст из документа\n",
        "text = load_document(FILE_PATH, encoding='windows-1251')\n",
        "\n",
        "if text:\n",
        "    # 2. Разделяем текст на чанки\n",
        "    chunks = split_document(text, document_title)\n",
        "\n",
        "    if chunks:\n",
        "        print(f\"Найдено {len(chunks)} чанков.\")\n",
        "\n",
        "        # 3. Создаем папку для сохранения результатов\n",
        "        file_name = os.path.splitext(os.path.basename(FILE_PATH))[0]\n",
        "        output_folder_name = f\"#{file_name}\"\n",
        "        output_folder_path = os.path.join(OUTPUT_BASE_PATH, output_folder_name)\n",
        "\n",
        "        if not os.path.exists(output_folder_path):\n",
        "            os.makedirs(output_folder_path)\n",
        "            print(f\"Создана папка: {output_folder_path}\")\n",
        "\n",
        "        # 4. Сохраняем чанки в файл\n",
        "        output_file_path = os.path.join(output_folder_path, \"chunks.json\")\n",
        "        save_chunks_to_file(chunks, output_file_path)\n",
        "\n",
        "        # 5. Выводим пример чанка в удобочитаемом виде\n",
        "        print(\"\\nПример чанка:\")\n",
        "        example_chunk = chunks[10]\n",
        "\n",
        "        print(\"page_content:\")\n",
        "        print(example_chunk[\"page_content\"])\n",
        "\n",
        "        print(\"\\nmetadata:\")\n",
        "        for key, value in example_chunk[\"metadata\"].items():\n",
        "            print(f\"  {key}: {value}\")\n",
        "\n",
        "    else:\n",
        "        print(\"Чанки не найдены.\")\n",
        "else:\n",
        "    print(\"Не удалось загрузить текст из документа.\")"
      ],
      "metadata": {
        "colab": {
          "base_uri": "https://localhost:8080/"
        },
        "id": "wdQyu_G5vHtT",
        "outputId": "cedc5f05-f32f-4199-d061-157355882034"
      },
      "execution_count": null,
      "outputs": [
        {
          "output_type": "stream",
          "name": "stdout",
          "text": [
            "Чанки сохранены в файл: output.txt\n",
            "Найдено 59 чанков.\n",
            "Создана папка: /content/drive/MyDrive/СТАЖИРОВКА_ЖКХ/Отчёты/#ФЗ от 27.07.2010 № 190-ФЗ-О теплоснабжении\n",
            "Чанки сохранены в файл: /content/drive/MyDrive/СТАЖИРОВКА_ЖКХ/Отчёты/#ФЗ от 27.07.2010 № 190-ФЗ-О теплоснабжении/chunks.json\n",
            "\n",
            "Пример чанка:\n",
            "page_content:\n",
            "1. Регулированию подлежат, за исключением случаев, указанных в частях 2.1 - 2.3 настоящей статьи, с учетом статьи 23.4 настоящего Федерального закона следующие виды цен (тарифов) в сфере теплоснабжения:\n",
            "1) - 2) утратили силу. - Федеральный закон от 26.02.2024 N 34-ФЗ;\n",
            "3) тарифы на тепловую энергию (мощность), производимую в режиме комбинированной выработки электрической и тепловой энергии источниками тепловой энергии с установленной генерирующей мощностью производства электрической энергии 25 мегаватт и более;\n",
            "4) тарифы на тепловую энергию (мощность), поставляемую теплоснабжающими организациями потребителям, а также тарифы на тепловую энергию (мощность), поставляемую теплоснабжающими организациями другим теплоснабжающим организациям;\n",
            "5) тарифы на теплоноситель, поставляемый теплоснабжающими организациями потребителям, другим теплоснабжающим организациям;\n",
            "5.1) тарифы на горячую воду, поставляемую теплоснабжающими организациями потребителям, другим теплоснабжающим организациям с использованием открытых систем теплоснабжения (горячего водоснабжения);\n",
            "6) тарифы на услуги по передаче тепловой энергии, теплоносителя;\n",
            "7) плата за услуги по поддержанию резервной тепловой мощности при отсутствии потребления тепловой энергии;\n",
            "8) плата за подключение (технологическое присоединение) к системе теплоснабжения.\n",
            "2. Перечень подлежащих регулированию цен (тарифов) на товары, услуги в сфере теплоснабжения является исчерпывающим. Цены на иные виды товаров, услуг в сфере теплоснабжения определяются соглашением сторон и регулированию не подлежат.\n",
            "2.1. Соглашением сторон договора теплоснабжения и (или) договора поставки тепловой энергии (мощности) и (или) теплоносителя, но не выше цен (тарифов) на соответствующие товары в сфере теплоснабжения, установленных органом регулирования в соответствии с основами ценообразования в сфере теплоснабжения и правилами регулирования цен (тарифов) в сфере теплоснабжения, утвержденными Правительством Российской Федерации, определяются следующие виды цен на товары в сфере теплоснабжения, за исключением тепловой энергии (мощности) и (или) теплоносителя, реализация которых необходима для оказания коммунальных услуг по отоплению и горячему водоснабжению населению и приравненным к нему категориям потребителей:\n",
            "1) цены на тепловую энергию (мощность), производимую и (или) поставляемую с использованием теплоносителя в виде пара теплоснабжающими организациями потребителям, другим теплоснабжающим организациям;\n",
            "2) цены на теплоноситель в виде пара, поставляемый теплоснабжающими организациями потребителям, другим теплоснабжающим организациям;\n",
            "3) цены на тепловую энергию (мощность), теплоноситель, поставляемые теплоснабжающей организацией, владеющей на праве собственности или ином законном основании источником тепловой энергии, потребителю, теплопотребляющие установки которого технологически соединены с этим источником тепловой энергии непосредственно или через тепловую сеть, принадлежащую на праве собственности и (или) ином законном основании указанной теплоснабжающей организации или указанному потребителю, если такие теплопотребляющие установки и такая тепловая сеть не имеют иного технологического соединения с системой теплоснабжения и к тепловым сетям указанного потребителя не присоединены теплопотребляющие установки иных потребителей.\n",
            "2.2. С 1 января 2018 года цены, указанные в части 2.1 настоящей статьи, не подлежат регулированию и определяются соглашением сторон договора теплоснабжения и (или) договора поставки тепловой энергии (мощности) и (или) теплоносителя, за исключением случаев:\n",
            "1) реализации тепловой энергии (мощности) и (или) теплоносителя, необходимых для оказания коммунальных услуг по отоплению и горячему водоснабжению населению и приравненным к нему категориям потребителей;\n",
            "2) производства тепловой энергии (мощности), теплоносителя с использованием источника тепловой энергии, установленная мощность которого составляет менее десяти гигакалорий в час, и (или) осуществления поставки теплоснабжающей организацией потребителю тепловой энергии в объеме менее пятидесяти тысяч гигакалорий за 2017 год.\n",
            "2.3. В случае, указанном в пункте 2 части 2.2 настоящей статьи, цены не подлежат регулированию и определяются соглашением сторон договора теплоснабжения и (или) поставки тепловой энергии (мощности) и (или) теплоносителя с даты, определенной Правительством Российской Федерации, а в ценовых зонах теплоснабжения - с даты окончания переходного периода, если она наступила ранее.\n",
            "3. Подлежащие регулированию цены (тарифы) на товары, услуги в сфере теплоснабжения устанавливаются в отношении каждой организации, осуществляющей регулируемые виды деятельности в сфере теплоснабжения, и в отношении каждого регулируемого вида деятельности. При этом затраты на обеспечение передачи тепловой энергии, теплоносителя учитываются при установлении тарифов на тепловую энергию (мощность), теплоноситель, реализация которых осуществляется теплоснабжающей организацией потребителям. Если теплоснабжающая организация осуществляет реализацию тепловой энергии, теплоносителя потребителям с использованием только собственных тепловых сетей, тариф на услуги по передаче тепловой энергии, теплоносителя по сетям такой организации не устанавливается.\n",
            "3.1. При установлении подлежащих регулированию цен (тарифов) на товары, услуги в сфере теплоснабжения не учитываются прибыль и убытки организации, осуществляющей регулируемые виды деятельности в сфере теплоснабжения, которые возникают в связи с производством и реализацией товаров, оказанием услуг в сфере теплоснабжения по ценам, определяемым соглашением сторон.\n",
            "3.2. В случае, если теплоснабжающей организацией заключены договоры теплоснабжения и (или) договоры поставки тепловой энергии (мощности) и (или) теплоносителя по ценам, определенным соглашением сторон, а также договоры теплоснабжения и (или) договоры поставки тепловой энергии (мощности) и (или) теплоносителя по ценам (тарифам), подлежащим регулированию, при расчете тарифов в сфере теплоснабжения используются необходимая валовая выручка и объем таких товаров в размере, необходимом для обеспечения теплоснабжения потребителей, осуществляемого в соответствии со всеми указанными договорами.\n",
            "4. В случае, если организации, осуществляющие регулируемые виды деятельности в сфере теплоснабжения, осуществляют содержание и обслуживание объекта теплоснабжения, который не имеет собственника или собственник которого неизвестен либо от права собственности на который собственник отказался (далее - бесхозяйный объект теплоснабжения), затраты на содержание, ремонт, эксплуатацию такого объекта теплоснабжения учитываются при установлении тарифов в отношении указанных организаций в порядке, установленном основами ценообразования в сфере теплоснабжения, утвержденными Правительством Российской Федерации.\n",
            "\n",
            "metadata:\n",
            "  global: {'document_title': 'ФЗ от 27.07.2010 № 190-ФЗ-О теплоснабжении.docx'}\n",
            "  chapter: Глава 3. ГОСУДАРСТВЕННАЯ ПОЛИТИКА ПРИ УСТАНОВЛЕНИИ\n",
            "  chapter_description: \n",
            "  article: Статья 8. Виды цен (тарифов) в сфере теплоснабжения\n"
          ]
        }
      ]
    },
    {
      "cell_type": "markdown",
      "source": [
        "#@title 3. Embeddings\n",
        "\n",
        "* Блок для загрузки чанков и создания FAISS индекса\n",
        "\n",
        "output_dir   -->   Путь к папке с  чанками формат  JSON  \n",
        "\n",
        "\n",
        "FILE_PATH   -->    Путь к папке с  Эмбеддингами формат   faiss  \n",
        "\n",
        "\n",
        "\n"
      ],
      "metadata": {
        "id": "MwIZdRq7INZS"
      }
    },
    {
      "cell_type": "code",
      "source": [
        "import os\n",
        "import json\n",
        "from langchain_openai import OpenAIEmbeddings\n",
        "from langchain.vectorstores import FAISS\n",
        "\n",
        "# --- Блок для загрузки чанков и создания FAISS индекса ---\n",
        "\n",
        "# Путь к папке с  Эмбеддингами формат   faiss\n",
        "output_dir = \"/content/drive/MyDrive/СТАЖИРОВКА_ЖКХ/Отчёты/Embeddings_FZ\"\n",
        "\n",
        "# Путь к папке, где находятся чанки (из предыдущего шага)\n",
        "FILE_PATH = \"/content/drive/MyDrive/СТАЖИРОВКА_ЖКХ/Отчёты/#ФЗ от 27_07_2006 N 152-ФЗ - О персональных данных\" # Замените\n",
        "\n",
        "file_name = os.path.splitext(os.path.basename(FILE_PATH))[0]\n",
        "input_filename = \"chunks.json\"\n",
        "input_filepath = os.path.join(FILE_PATH, input_filename)  # Используем FILE_PATH как базовую папку\n",
        "\n",
        "\n",
        "try:\n",
        "    with open(input_filepath, \"r\", encoding=\"utf-8\") as f:\n",
        "        chunks = json.load(f)  # Загружаем чанки из JSON\n",
        "    print(f\"Чанки загружены из: {input_filepath}\")\n",
        "\n",
        "    # Инициализируем модель эмбеддингов\n",
        "    embeddings_model = OpenAIEmbeddings()\n",
        "\n",
        "    # Создаем список текстов для эмбеддингов\n",
        "    texts = [chunk[\"page_content\"] for chunk in chunks]\n",
        "\n",
        "    # Получаем эмбеддинги\n",
        "    embeddings = embeddings_model.embed_documents(texts)\n",
        "\n",
        "    # Создаем FAISS индекс\n",
        "    db = FAISS.from_texts(texts, embeddings_model)\n",
        "\n",
        "    print(f\"Размер эмбеддинга: {len(embeddings[0])}\")\n",
        "\n",
        "    # --- Блок для сохранения результатов на OpenAI Drive ---\n",
        "    #output_dir = \"/content/drive/MyDrive/СТАЖИРОВКА_ЖКХ/Отчёты\"\n",
        "    os.makedirs(output_dir, exist_ok=True)  # Создаем директорию, если она не существует\n",
        "\n",
        "    output_filename = f\"Em{file_name}_faiss\" # Используем имя файла из FILE_PATH\n",
        "    output_filepath = os.path.join(output_dir, output_filename)\n",
        "\n",
        "    db.save_local(output_filepath)  # Сохраняем FAISS индекс с помощью save_local\n",
        "\n",
        "    print(f\"Индекс FAISS сохранен в: {output_filepath}\")\n",
        "\n",
        "except Exception as e:\n",
        "    print(f\"Ошибка: {e}\")\n",
        "    db = None"
      ],
      "metadata": {
        "colab": {
          "base_uri": "https://localhost:8080/"
        },
        "id": "6zHFeeptJYDe",
        "outputId": "2a7b3fcb-0a60-44b8-b3a1-21e519519989"
      },
      "execution_count": null,
      "outputs": [
        {
          "output_type": "stream",
          "name": "stdout",
          "text": [
            "Чанки загружены из: /content/drive/MyDrive/СТАЖИРОВКА_ЖКХ/Отчёты/#ФЗ от 27_07_2006 N 152-ФЗ - О персональных данных/chunks.json\n",
            "Размер эмбеддинга: 1536\n",
            "Индекс FAISS сохранен в: /content/drive/MyDrive/СТАЖИРОВКА_ЖКХ/Отчёты/Embeddings_FZ/Em#ФЗ от 27_07_2006 N 152-ФЗ - О персональных данных_faiss\n"
          ]
        }
      ]
    },
    {
      "cell_type": "markdown",
      "source": [
        "#@title 4 Запуск модели\n",
        "\n"
      ],
      "metadata": {
        "id": "8OlkEwXRsky3"
      }
    },
    {
      "cell_type": "code",
      "source": [
        "from openai import OpenAI\n",
        "import textwrap\n",
        "import re\n",
        "\n",
        "# Функция для форматирования текста по абзацам\n",
        "def format_text(text, width=80):\n",
        "    # Разделяем текст на абзацы\n",
        "    paragraphs = text.split('\\n')\n",
        "    # Форматируем каждый абзац отдельно\n",
        "    formatted_paragraphs = []\n",
        "    for paragraph in paragraphs:\n",
        "        # Используем textwrap.fill для форматирования абзаца, чтобы длина строки не превышала width\n",
        "        formatted_paragraph = textwrap.fill(paragraph, width)\n",
        "        formatted_paragraphs.append(formatted_paragraph)\n",
        "    # Объединяем абзацы с символом новой строки\n",
        "    return '\\n'.join(formatted_paragraphs)\n",
        "\n",
        "def answer_index(system, topic, search_index, document_title, verbose=True): # Добавим document_title\n",
        "    \"\"\"\n",
        "    Отвечает на вопрос, используя предоставленную базу знаний и метаданные статей.\n",
        "\n",
        "    Args:\n",
        "        system: Системные инструкции для модели.\n",
        "        topic: Вопрос пользователя.\n",
        "        search_index: Индекс FAISS для поиска релевантных отрывков.\n",
        "        document_title: Название исходного документа.\n",
        "        verbose: Флаг для отображения отладочной информации.\n",
        "\n",
        "    Returns:\n",
        "        Ответ на вопрос с указанием источника (название документа, статья, и т.д.).\n",
        "    \"\"\"\n",
        "\n",
        "    # Поиск релевантных отрезков из базы знаний\n",
        "    docs = search_index.similarity_search(topic, k=4)\n",
        "\n",
        "    if verbose:\n",
        "        print('\\n ===========================================: ')\n",
        "    message_content = re.sub(r'\\n{2}', ' ', '\\n '.join(\n",
        "        [f'\\nОтрывок документа №{i+1}\\n=====================' + doc.page_content + '\\n' for i, doc in enumerate(docs)]))\n",
        "\n",
        "    if verbose:\n",
        "        print('message_content :\\n ======================================== \\n', message_content)\n",
        "\n",
        "    client = OpenAI()\n",
        "    messages = [\n",
        "        {\"role\": \"system\", \"content\": system},\n",
        "        {'role': 'assistant', 'content': assistant},\n",
        "        {\"role\": \"user\",\n",
        "         \"content\": f\"Используя предоставленный документ, ответь на вопрос клиента. Не упоминай явно документ с информацией для ответа клиенту в ответе.\\\n",
        "         Документ с информацией для ответа клиенту: {message_content} \\\n",
        "         \\n\\nВопрос клиента: \\n{topic}\"}\n",
        "    ]\n",
        "\n",
        "    if verbose:\n",
        "        print('\\n ===========================================: ')\n",
        "\n",
        "    completion = client.chat.completions.create(\n",
        "        model=\"gpt-4o-mini\",\n",
        "        messages=messages,\n",
        "        temperature=0.5\n",
        "    )\n",
        "\n",
        "    answer = completion.choices[0].message.content\n",
        "\n",
        "    # Добавляем информацию об источнике\n",
        "    source_info = f\"\\n\\nОтвет основан на документе: {document_title}, \"\n",
        "\n",
        "    # Попытаемся извлечь название главы и статьи из метаданных первого документа\n",
        "    if docs and docs[0].metadata:\n",
        "        chapter = docs[0].metadata.get(\"chapter\", \"не указана\")\n",
        "        #chapter_description = docs[0].metadata.get(\"chapter_description\", \"не указано\")\n",
        "        source_info += f\"Глава: {chapter}. \"\n",
        "        #source_info += f\"Описание Главы: {chapter_description}. \"\n",
        "\n",
        "        # Попробуем найти номер статьи в page_content (если это статья)\n",
        "        article_match = re.search(r\"Статья\\s+(\\d+)\", docs[0].page_content)\n",
        "        if article_match:\n",
        "            article_number = article_match.group(1)\n",
        "            source_info += f\"Статья: {article_number}.\"\n",
        "    else:\n",
        "        source_info += \"Источник в документе не определен.\"\n",
        "\n",
        "    return format_text(answer + source_info)  # Возвращает отформатированный ответ с источником"
      ],
      "metadata": {
        "id": "18lleEQN8Rah"
      },
      "execution_count": null,
      "outputs": []
    },
    {
      "cell_type": "code",
      "source": [
        "system ='''Ты консультант контактного центра жилого комплекса в сфере ЖКХ. Задача проводить консультации и предлагать решения по вопросам клиента на\n",
        "основе нормативно-правовой базы Гражданского кодекса Российской Федерации а тка же внутренних регламентов жилого комплекса.\n",
        "Твоя задача отвечать на вопросы приоритетно из предоставленной базы документов в контексте соответствующих статей обязательно указывая\n",
        "название документа , статью, часть, раздел статьи или нормативный акт.\n",
        "Строго соблюдай условие: Если вопрос не относится к теме не выводи ни какие документы, дружелюбно напоминай что необходимо вернуться в русло разговора темы ЖКХ в отношении жилого комплекса.\n",
        "Не придумывай ничего от себя, отвечай максимально точно по документу. Не упоминай Документ с информацией для ответа клиенту.\n",
        "Клиент ничего не должен знать про Документ с информацией для ответа клиенту.'''\n",
        "\n",
        "assistant = '''Не пересказывай полностью раздел текста, Отвечай максимально точно по документу но коротко по сути вопроса.\n",
        "Выделяй основные тезисы с обязательным указнием названия документа, статью, часть, раздел статьи или нормативный акт.\n",
        "Задавай уточняющие вопросы для конкретики.'''"
      ],
      "metadata": {
        "id": "8paADRzdju1L"
      },
      "execution_count": null,
      "outputs": []
    },
    {
      "cell_type": "markdown",
      "source": [
        "# 5. Тестируем: вопрос - ответ"
      ],
      "metadata": {
        "id": "Qe-CEaQtKdC7"
      }
    },
    {
      "cell_type": "code",
      "source": [
        "# Получите название документа (например, из FILE_PATH)\n",
        "document_title = os.path.basename(FILE_PATH)\n",
        "\n",
        "# вопрос пользователя\n",
        "topic = \"Расскажио о требованиях защиты персональных данных\"\n",
        "ans = answer_index(system, topic, db, document_title)  # Передаем document_title\n",
        "print(format_text(ans))"
      ],
      "metadata": {
        "colab": {
          "base_uri": "https://localhost:8080/"
        },
        "id": "XxoOSK4o_IqQ",
        "outputId": "79515d93-dde6-4fb9-960b-fa01684c3d95"
      },
      "execution_count": null,
      "outputs": [
        {
          "output_type": "stream",
          "name": "stdout",
          "text": [
            "\n",
            " ===========================================: \n",
            "message_content :\n",
            " ======================================== \n",
            " \n",
            "Отрывок документа №1\n",
            "=====================1. Оператор при обработке персональных данных обязан принимать необходимые правовые, организационные и технические меры или обеспечивать их принятие для защиты персональных данных от неправомерного или случайного доступа к ним, уничтожения, изменения, блокирования, копирования, предоставления, распространения персональных данных, а также от иных неправомерных действий в отношении персональных данных.\n",
            "2. Обеспечение безопасности персональных данных достигается, в частности:\n",
            "1) определением угроз безопасности персональных данных при их обработке в информационных системах персональных данных;\n",
            "2) применением организационных и технических мер по обеспечению безопасности персональных данных при их обработке в информационных системах персональных данных, необходимых для выполнения требований к защите персональных данных, исполнение которых обеспечивает установленные Правительством Российской Федерации уровни защищенности персональных данных;\n",
            "3) применением прошедших в установленном порядке процедуру оценки соответствия средств защиты информации;\n",
            "3.1) применением для уничтожения персональных данных прошедших в установленном порядке процедуру оценки соответствия средств защиты информации, в составе которых реализована функция уничтожения информации;\n",
            "4) оценкой эффективности принимаемых мер по обеспечению безопасности персональных данных до ввода в эксплуатацию информационной системы персональных данных;\n",
            "5) учетом машинных носителей персональных данных;\n",
            "6) обнаружением фактов несанкционированного доступа к персональным данным и принятием мер, в том числе мер по обнаружению, предупреждению и ликвидации последствий компьютерных атак на информационные системы персональных данных и по реагированию на компьютерные инциденты в них;\n",
            "7) восстановлением персональных данных, модифицированных или уничтоженных вследствие несанкционированного доступа к ним;\n",
            "8) установлением правил доступа к персональным данным, обрабатываемым в информационной системе персональных данных, а также обеспечением регистрации и учета всех действий, совершаемых с персональными данными в информационной системе персональных данных;\n",
            "9) контролем за принимаемыми мерами по обеспечению безопасности персональных данных и уровня защищенности информационных систем персональных данных.\n",
            "3. Правительство Российской Федерации с учетом возможного вреда субъекту персональных данных, объема и содержания обрабатываемых персональных данных, вида деятельности, при осуществлении которого обрабатываются персональные данные, актуальности угроз безопасности персональных данных устанавливает:\n",
            "1) уровни защищенности персональных данных при их обработке в информационных системах персональных данных в зависимости от угроз безопасности этих данных;\n",
            "2) требования к защите персональных данных при их обработке в информационных системах персональных данных, исполнение которых обеспечивает установленные уровни защищенности персональных данных;\n",
            "3) требования к материальным носителям биометрических персональных данных и технологиям хранения таких данных вне информационных систем персональных данных.\n",
            "4. Состав и содержание необходимых для выполнения установленных Правительством Российской Федерации в соответствии с частью 3 настоящей статьи требований к защите персональных данных для каждого из уровней защищенности, организационных и технических мер по обеспечению безопасности персональных данных при их обработке в информационных системах персональных данных устанавливаются федеральным органом исполнительной власти, уполномоченным в области обеспечения безопасности, и федеральным органом исполнительной власти, уполномоченным в области противодействия техническим разведкам и технической защиты информации, в пределах их полномочий.\n",
            "5. Федеральные органы исполнительной власти, осуществляющие функции по выработке государственной политики и нормативно-правовому регулированию в установленной сфере деятельности, органы государственной власти субъектов Российской Федерации, Банк России, органы государственных внебюджетных фондов, иные государственные органы в пределах своих полномочий принимают нормативные правовые акты, в которых определяют угрозы безопасности персональных данных, актуальные при обработке персональных данных в информационных системах персональных данных, эксплуатируемых при осуществлении соответствующих видов деятельности, с учетом содержания персональных данных, характера и способов их обработки.\n",
            "6. Наряду с угрозами безопасности персональных данных, определенных в нормативных правовых актах, принятых в соответствии с частью 5 настоящей статьи, ассоциации, союзы и иные объединения операторов своими решениями вправе определить дополнительные угрозы безопасности персональных данных, актуальные при обработке персональных данных в информационных системах персональных данных, эксплуатируемых при осуществлении определенных видов деятельности членами таких ассоциаций, союзов и иных объединений операторов, с учетом содержания персональных данных, характера и способов их обработки.\n",
            "7. Проекты нормативных правовых актов, указанных в части 5 настоящей статьи, подлежат согласованию с федеральным органом исполнительной власти, уполномоченным в области обеспечения безопасности, и федеральным органом исполнительной власти, уполномоченным в области противодействия техническим разведкам и технической защиты информации. Проекты решений, указанных в части 6 настоящей статьи, подлежат согласованию с федеральным органом исполнительной власти, уполномоченным в области обеспечения безопасности, и федеральным органом исполнительной власти, уполномоченным в области противодействия техническим разведкам и технической защиты информации, в порядке, установленном Правительством Российской Федерации. Решение федерального органа исполнительной власти, уполномоченного в области обеспечения безопасности, и федерального органа исполнительной власти, уполномоченного в области противодействия техническим разведкам и технической защиты информации, об отказе в согласовании проектов решений, указанных в части 6 настоящей статьи, должно быть мотивированным.\n",
            "8. Контроль и надзор за выполнением организационных и технических мер по обеспечению безопасности персональных данных, установленных в соответствии с настоящей статьей, при их обработке в государственных информационных системах персональных данных, а также в эксплуатируемых в государственных органах Российской Федерации иных информационных системах персональных данных осуществляются федеральным органом исполнительной власти, уполномоченным в области обеспечения безопасности, в пределах его полномочий. Указанные контроль и надзор также осуществляются федеральным органом исполнительной власти, уполномоченным в области противодействия техническим разведкам и технической защиты информации, в пределах его полномочий без права ознакомления с персональными данными, обрабатываемыми в информационных системах персональных данных.\n",
            "9. Решением Правительства Российской Федерации с учетом значимости и содержания обрабатываемых персональных данных федеральный орган исполнительной власти, уполномоченный в области обеспечения безопасности, может быть наделен полномочиями по контролю за выполнением организационных и технических мер по обеспечению безопасности персональных данных, установленных в соответствии с настоящей статьей, при их обработке в информационных системах персональных данных, эксплуатируемых при осуществлении определенных видов деятельности и не являющихся государственными информационными системами персональных данных. Решением Правительства Российской Федерации с учетом значимости и содержания обрабатываемых персональных данных федеральный орган исполнительной власти, уполномоченный в области противодействия техническим разведкам и технической защиты информации, также может быть наделен указанными полномочиями без права ознакомления с персональными данными, обрабатываемыми в информационных системах персональных данных.\n",
            "10. Использование и хранение биометрических персональных данных вне информационных систем персональных данных могут осуществляться только на таких материальных носителях информации и с применением такой технологии ее хранения, которые обеспечивают защиту этих данных от неправомерного или случайного доступа к ним, их уничтожения, изменения, блокирования, копирования, предоставления, распространения.\n",
            "11. Для целей настоящей статьи под угрозами безопасности персональных данных понимается совокупность условий и факторов, создающих опасность несанкционированного, в том числе случайного, доступа к персональным данным, результатом которого могут стать уничтожение, изменение, блокирование, копирование, предоставление, распространение персональных данных, а также иные неправомерные действия при их обработке в информационной системе персональных данных. Под уровнем защищенности персональных данных понимается комплексный показатель, характеризующий требования, исполнение которых обеспечивает нейтрализацию определенных угроз безопасности персональных данных при их обработке в информационных системах персональных данных.\n",
            "12. Оператор обязан в порядке, определенном федеральным органом исполнительной власти, уполномоченным в области обеспечения безопасности, обеспечивать взаимодействие с государственной системой обнаружения, предупреждения и ликвидации последствий компьютерных атак на информационные ресурсы Российской Федерации, включая информирование его о компьютерных инцидентах, повлекших неправомерную передачу (предоставление, распространение, доступ) персональных данных.\n",
            "13. Указанная в части 12 настоящей статьи информация (за исключением информации, составляющей государственную тайну) передается федеральным органом исполнительной власти, уполномоченным в области обеспечения безопасности, в уполномоченный орган по защите прав субъектов персональных данных.\n",
            "14. Порядок передачи информации в соответствии с частью 13 настоящей статьи устанавливается совместно федеральным органом исполнительной власти, уполномоченным в области обеспечения безопасности, и уполномоченным органом по защите прав субъектов персональных данных.  \n",
            "Отрывок документа №2\n",
            "=====================Операторы и иные лица, получившие доступ к персональным данным, обязаны не раскрывать третьим лицам и не распространять персональные данные без согласия субъекта персональных данных, если иное не предусмотрено федеральным законом.  \n",
            "Отрывок документа №3\n",
            "=====================1. Оператор обязан принимать меры, необходимые и достаточные для обеспечения выполнения обязанностей, предусмотренных настоящим Федеральным законом и принятыми в соответствии с ним нормативными правовыми актами. Оператор самостоятельно определяет состав и перечень мер, необходимых и достаточных для обеспечения выполнения обязанностей, предусмотренных настоящим Федеральным законом и принятыми в соответствии с ним нормативными правовыми актами, если иное не предусмотрено настоящим Федеральным законом или другими федеральными законами. К таким мерам, в частности, относятся:\n",
            "1) назначение оператором, являющимся юридическим лицом, ответственного за организацию обработки персональных данных;\n",
            "2) издание оператором, являющимся юридическим лицом, документов, определяющих политику оператора в отношении обработки персональных данных, локальных актов по вопросам обработки персональных данных, определяющих для каждой цели обработки персональных данных категории и перечень обрабатываемых персональных данных, категории субъектов, персональные данные которых обрабатываются, способы, сроки их обработки и хранения, порядок уничтожения персональных данных при достижении целей их обработки или при наступлении иных законных оснований, а также локальных актов, устанавливающих процедуры, направленные на предотвращение и выявление нарушений законодательства Российской Федерации, устранение последствий таких нарушений. Такие документы и локальные акты не могут содержать положения, ограничивающие права субъектов персональных данных, а также возлагающие на операторов не предусмотренные законодательством Российской Федерации полномочия и обязанности;\n",
            "3) применение правовых, организационных и технических мер по обеспечению безопасности персональных данных в соответствии со статьей 19 настоящего Федерального закона;\n",
            "4) осуществление внутреннего контроля и (или) аудита соответствия обработки персональных данных настоящему Федеральному закону и принятым в соответствии с ним нормативным правовым актам, требованиям к защите персональных данных, политике оператора в отношении обработки персональных данных, локальным актам оператора;\n",
            "5) оценка вреда в соответствии с требованиями, установленными уполномоченным органом по защите прав субъектов персональных данных, который может быть причинен субъектам персональных данных в случае нарушения настоящего Федерального закона, соотношение указанного вреда и принимаемых оператором мер, направленных на обеспечение выполнения обязанностей, предусмотренных настоящим Федеральным законом;\n",
            "6) ознакомление работников оператора, непосредственно осуществляющих обработку персональных данных, с положениями законодательства Российской Федерации о персональных данных, в том числе требованиями к защите персональных данных, документами, определяющими политику оператора в отношении обработки персональных данных, локальными актами по вопросам обработки персональных данных, и (или) обучение указанных работников.\n",
            "2. Оператор обязан опубликовать или иным образом обеспечить неограниченный доступ к документу, определяющему его политику в отношении обработки персональных данных, к сведениям о реализуемых требованиях к защите персональных данных. Оператор, осуществляющий сбор персональных данных с использованием информационно-телекоммуникационных сетей, обязан опубликовать в соответствующей информационно-телекоммуникационной сети, в том числе на страницах принадлежащего оператору сайта в информационно-телекоммуникационной сети \"Интернет\", с использованием которых осуществляется сбор персональных данных, документ, определяющий его политику в отношении обработки персональных данных, и сведения о реализуемых требованиях к защите персональных данных, а также обеспечить возможность доступа к указанному документу с использованием средств соответствующей информационно-телекоммуникационной сети.\n",
            "3. Правительство Российской Федерации устанавливает перечень мер, направленных на обеспечение выполнения обязанностей, предусмотренных настоящим Федеральным законом и принятыми в соответствии с ним нормативными правовыми актами, операторами, являющимися государственными или муниципальными органами.\n",
            "4. Оператор обязан представить документы и локальные акты, указанные в части 1 настоящей статьи, и (или) иным образом подтвердить принятие мер, указанных в части 1 настоящей статьи, по запросу уполномоченного органа по защите прав субъектов персональных данных.  \n",
            "Отрывок документа №4\n",
            "=====================1. Оператор до начала обработки персональных данных обязан уведомить уполномоченный орган по защите прав субъектов персональных данных о своем намерении осуществлять обработку персональных данных, за исключением случаев, предусмотренных частью 2 настоящей статьи.\n",
            "2. Оператор вправе осуществлять без уведомления уполномоченного органа по защите прав субъектов персональных данных обработку персональных данных:\n",
            "7) включенных в государственные информационные системы персональных данных, созданные в целях защиты безопасности государства и общественного порядка;\n",
            "8) в случае, если оператор осуществляет деятельность по обработке персональных данных исключительно без использования средств автоматизации;\n",
            "9) обрабатываемых в случаях, предусмотренных законодательством Российской Федерации о транспортной безопасности, в целях обеспечения устойчивого и безопасного функционирования транспортного комплекса, защиты интересов личности, общества и государства в сфере транспортного комплекса от актов незаконного вмешательства.\n",
            "3. Уведомление, предусмотренное частью 1 настоящей статьи, направляется в виде документа на бумажном носителе или в форме электронного документа и подписывается уполномоченным лицом. Уведомление должно содержать следующие сведения:\n",
            "1) наименование (фамилия, имя, отчество), адрес оператора;\n",
            "2) цель обработки персональных данных;\n",
            "7) описание мер, предусмотренных статьями 18.1 и 19 настоящего Федерального закона, в том числе сведения о наличии шифровальных (криптографических) средств и наименования этих средств;\n",
            "7.1) фамилия, имя, отчество физического лица или наименование юридического лица, ответственных за организацию обработки персональных данных, и номера их контактных телефонов, почтовые адреса и адреса электронной почты;\n",
            "8) дата начала обработки персональных данных;\n",
            "9) срок или условие прекращения обработки персональных данных;\n",
            "10) сведения о наличии или об отсутствии трансграничной передачи персональных данных в процессе их обработки;\n",
            "10.1) сведения о месте нахождения базы данных информации, содержащей персональные данные граждан Российской Федерации;\n",
            "10.2) фамилия, имя, отчество физического лица или наименование юридического лица, имеющих доступ и (или) осуществляющих на основании договора обработку персональных данных, содержащихся в государственных и муниципальных информационных системах;\n",
            "11) сведения об обеспечении безопасности персональных данных в соответствии с требованиями к защите персональных данных, установленными Правительством Российской Федерации.\n",
            "3.1. При предоставлении сведений, предусмотренных частью 3 настоящей статьи, оператор для каждой цели обработки персональных данных указывает категории персональных данных, категории субъектов, персональные данные которых обрабатываются, правовое основание обработки персональных данных, перечень действий с персональными данными, способы обработки персональных данных.\n",
            "4. Уполномоченный орган по защите прав субъектов персональных данных в течение тридцати дней с даты поступления уведомления об обработке персональных данных вносит сведения, указанные в части 3 настоящей статьи, а также сведения о дате направления указанного уведомления в реестр операторов. Сведения, содержащиеся в реестре операторов, за исключением сведений о средствах обеспечения безопасности персональных данных при их обработке, являются общедоступными.\n",
            "4.1. Уполномоченный орган по защите прав субъектов персональных данных в течение тридцати дней с даты поступления от оператора уведомления о прекращении обработки персональных данных исключает сведения, указанные в части 3 настоящей статьи, из реестра операторов.\n",
            "5. На оператора не могут возлагаться расходы в связи с рассмотрением уведомления об обработке персональных данных уполномоченным органом по защите прав субъектов персональных данных, а также в связи с внесением сведений в реестр операторов.\n",
            "6. В случае предоставления неполных или недостоверных сведений, указанных в части 3 настоящей статьи, уполномоченный орган по защите прав субъектов персональных данных вправе требовать от оператора уточнения предоставленных сведений до их внесения в реестр операторов.\n",
            "7. В случае изменения сведений, указанных в части 3 настоящей статьи, оператор не позднее 15-го числа месяца, следующего за месяцем, в котором возникли такие изменения, обязан уведомить уполномоченный орган по защите прав субъектов персональных данных обо всех произошедших за указанный период изменениях. В случае прекращения обработки персональных данных оператор обязан уведомить об этом уполномоченный орган по защите прав субъектов персональных данных в течение десяти рабочих дней с даты прекращения обработки персональных данных.\n",
            "8. Формы уведомлений, предусмотренных частями 1, 4.1 и 7 настоящей статьи, устанавливаются уполномоченным органом по защите прав субъектов персональных данных.\n",
            "\n",
            "\n",
            " ===========================================: \n",
            "При обработке персональных данных оператор обязан принимать необходимые меры для\n",
            "их защиты от неправомерного доступа, изменения и уничтожения. Основные\n",
            "требования включают:\n",
            "\n",
            "1. **Определение угроз безопасности** - необходимо определить возможные угрозы\n",
            "безопасности персональных данных (часть 1 статьи 19).\n",
            "2. **Организационные и технические меры** - применение мер для обеспечения\n",
            "безопасности, включая защиту информации и контроль за доступом (часть 2 статьи\n",
            "19).\n",
            "3. **Оценка эффективности** - оценка принимаемых мер по обеспечению безопасности\n",
            "персональных данных (часть 4 статьи 19).\n",
            "4. **Информирование о компьютерных инцидентах** - оператор обязан\n",
            "взаимодействовать с государственной системой по обнаружению и ликвидации\n",
            "последствий компьютерных атак (часть 12 статьи 19).\n",
            "\n",
            "Эти меры направлены на защиту персональных данных от неправомерных действий и\n",
            "обеспечение их безопасности.\n",
            "\n",
            "Ответ основан на документе: #ФЗ от 27_07_2006 N 152-ФЗ - О персональных данных,\n",
            "Источник в документе не определен.\n"
          ]
        }
      ]
    },
    {
      "cell_type": "code",
      "source": [
        "# Получите название документа (например, из FILE_PATH)\n",
        "document_title = os.path.basename(FILE_PATH)\n",
        "\n",
        "# вопрос пользователя\n",
        "topic = \" действия в отношении лиц виновных в нарушении требований настоящего Федерального закона\"\n",
        "ans = answer_index(system, topic, db, document_title)  # Передаем document_title\n",
        "print(format_text(ans))"
      ],
      "metadata": {
        "colab": {
          "base_uri": "https://localhost:8080/"
        },
        "outputId": "f62a53a2-2fc4-48f1-b040-1267f84d2482",
        "id": "5hBxXZgTQhCJ"
      },
      "execution_count": null,
      "outputs": [
        {
          "output_type": "stream",
          "name": "stdout",
          "text": [
            "\n",
            " ===========================================: \n",
            "message_content :\n",
            " ======================================== \n",
            " \n",
            "Отрывок документа №1\n",
            "=====================1. Лица, виновные в нарушении требований настоящего Федерального закона, несут предусмотренную законодательством Российской Федерации ответственность.\n",
            "2. Моральный вред, причиненный субъекту персональных данных вследствие нарушения его прав, нарушения правил обработки персональных данных, установленных настоящим Федеральным законом, а также требований к защите персональных данных, установленных в соответствии с настоящим Федеральным законом, подлежит возмещению в соответствии с законодательством Российской Федерации. Возмещение морального вреда осуществляется независимо от возмещения имущественного вреда и понесенных субъектом персональных данных убытков.  \n",
            "Отрывок документа №2\n",
            "=====================1. Настоящим Федеральным законом регулируются отношения, связанные с обработкой персональных данных, осуществляемой федеральными органами государственной власти, органами государственной власти субъектов Российской Федерации, иными государственными органами (далее - государственные органы), органами местного самоуправления, иными муниципальными органами (далее - муниципальные органы), юридическими лицами и физическими лицами с использованием средств автоматизации, в том числе в информационно-телекоммуникационных сетях, или без использования таких средств, если обработка персональных данных без использования таких средств соответствует характеру действий (операций), совершаемых с персональными данными с использованием средств автоматизации, то есть позволяет осуществлять в соответствии с заданным алгоритмом поиск персональных данных, зафиксированных на материальном носителе и содержащихся в картотеках или иных систематизированных собраниях персональных данных, и (или) доступ к таким персональным данным.\n",
            "1.1. Положения настоящего Федерального закона применяются к обработке персональных данных граждан Российской Федерации, осуществляемой иностранными юридическими лицами или иностранными физическими лицами, на основании договора, стороной которого являются граждане Российской Федерации, иных соглашений между иностранными юридическими лицами, иностранными физическими лицами и гражданами Российской Федерации либо на основании согласия гражданина Российской Федерации на обработку его персональных данных.\n",
            "2. Действие настоящего Федерального закона не распространяется на отношения, возникающие при:\n",
            "1) обработке персональных данных физическими лицами исключительно для личных и семейных нужд, если при этом не нарушаются права субъектов персональных данных;\n",
            "2) организации хранения, комплектования, учета и использования содержащих персональные данные документов Архивного фонда Российской Федерации и других архивных документов в соответствии с законодательством об архивном деле в Российской Федерации;\n",
            "4) обработке персональных данных, отнесенных в установленном порядке к сведениям, составляющим государственную тайну;\n",
            "3. Предоставление, распространение, передача и получение информации о деятельности судов в Российской Федерации, содержащей персональные данные, ведение и использование информационных систем и информационно-телекоммуникационных сетей в целях создания условий для доступа к указанной информации осуществляются в соответствии с Федеральным законом от 22 декабря 2008 года N 262-ФЗ \"Об обеспечении доступа к информации о деятельности судов в Российской Федерации\".\n",
            "(часть 3 введена Федеральным законом от 29.07.2017 N 223-ФЗ)  \n",
            "Отрывок документа №3\n",
            "=====================Целью настоящего Федерального закона является обеспечение защиты прав и свобод человека и гражданина при обработке его персональных данных, в том числе защиты прав на неприкосновенность частной жизни, личную и семейную тайну.  \n",
            "Отрывок документа №4\n",
            "=====================1. Законодательство Российской Федерации в области персональных данных основывается на Конституции Российской Федерации и международных договорах Российской Федерации и состоит из настоящего Федерального закона и других определяющих случаи и особенности обработки персональных данных федеральных законов.\n",
            "2. На основании и во исполнение федеральных законов государственные органы, Банк России, органы местного самоуправления в пределах своих полномочий могут принимать нормативные правовые акты, нормативные акты, правовые акты (далее - нормативные правовые акты) по отдельным вопросам, касающимся обработки персональных данных. Такие акты не могут содержать положения, ограничивающие права субъектов персональных данных, устанавливающие не предусмотренные федеральными законами ограничения деятельности операторов или возлагающие на операторов не предусмотренные федеральными законами обязанности, и подлежат официальному опубликованию.\n",
            "3. Особенности обработки персональных данных, осуществляемой без использования средств автоматизации, могут быть установлены федеральными законами и иными нормативными правовыми актами Российской Федерации с учетом положений настоящего Федерального закона.\n",
            "3.1. Нормативные правовые акты, принимаемые в соответствии с частью 2 настоящей статьи, подлежат обязательному согласованию с уполномоченным органом по защите прав субъектов персональных данных в случаях, если указанные нормативные правовые акты регулируют отношения, связанные с осуществлением трансграничной передачи персональных данных, обработкой специальных категорий персональных данных, биометрических персональных данных, персональных данных несовершеннолетних, предоставлением, распространением персональных данных, полученных в результате обезличивания. Срок указанного согласования не может превышать тридцать дней с даты поступления соответствующего нормативного правового акта в уполномоченный орган по защите прав субъектов персональных данных.\n",
            "4. Если международным договором Российской Федерации установлены иные правила, чем те, которые предусмотрены настоящим Федеральным законом, применяются правила международного договора.\n",
            "5. Решения межгосударственных органов, принятые на основании положений международных договоров Российской Федерации в их истолковании, противоречащем Конституции Российской Федерации, не подлежат исполнению в Российской Федерации. Такое противоречие может быть установлено в порядке, определенном федеральным конституционным законом.\n",
            "\n",
            "\n",
            " ===========================================: \n",
            "В соответствии с Федеральным законом, лица, виновные в нарушении требований\n",
            "данного закона, несут предусмотренную законодательством Российской Федерации\n",
            "ответственность (часть 1 статьи 1). Это означает, что за нарушения могут быть\n",
            "предусмотрены различные меры ответственности, в том числе административные или\n",
            "уголовные, в зависимости от характера нарушения.\n",
            "\n",
            "Если у вас есть дополнительные вопросы или требуется уточнить детали,\n",
            "пожалуйста, сообщите!\n",
            "\n",
            "Ответ основан на документе: #ФЗ от 27_07_2006 N 152-ФЗ - О персональных данных,\n",
            "Источник в документе не определен.\n"
          ]
        }
      ]
    },
    {
      "cell_type": "code",
      "source": [
        "# Получите название документа (например, из FILE_PATH)\n",
        "document_title = os.path.basename(FILE_PATH)\n",
        "\n",
        "# вопрос пользователя\n",
        "topic = \"я не хочу соблюдать требований настоящего Федерального закона\"\n",
        "ans = answer_index(system, topic, db, document_title)  # Передаем document_title\n",
        "print(format_text(ans))"
      ],
      "metadata": {
        "colab": {
          "base_uri": "https://localhost:8080/"
        },
        "outputId": "b60e704a-7e2f-4d00-ea73-33b94b5870bf",
        "id": "PqUy3ILcfAd_"
      },
      "execution_count": null,
      "outputs": [
        {
          "output_type": "stream",
          "name": "stdout",
          "text": [
            "\n",
            " ===========================================: \n",
            "message_content :\n",
            " ======================================== \n",
            " \n",
            "Отрывок документа №1\n",
            "=====================1. Законодательство Российской Федерации в области персональных данных основывается на Конституции Российской Федерации и международных договорах Российской Федерации и состоит из настоящего Федерального закона и других определяющих случаи и особенности обработки персональных данных федеральных законов.\n",
            "2. На основании и во исполнение федеральных законов государственные органы, Банк России, органы местного самоуправления в пределах своих полномочий могут принимать нормативные правовые акты, нормативные акты, правовые акты (далее - нормативные правовые акты) по отдельным вопросам, касающимся обработки персональных данных. Такие акты не могут содержать положения, ограничивающие права субъектов персональных данных, устанавливающие не предусмотренные федеральными законами ограничения деятельности операторов или возлагающие на операторов не предусмотренные федеральными законами обязанности, и подлежат официальному опубликованию.\n",
            "3. Особенности обработки персональных данных, осуществляемой без использования средств автоматизации, могут быть установлены федеральными законами и иными нормативными правовыми актами Российской Федерации с учетом положений настоящего Федерального закона.\n",
            "3.1. Нормативные правовые акты, принимаемые в соответствии с частью 2 настоящей статьи, подлежат обязательному согласованию с уполномоченным органом по защите прав субъектов персональных данных в случаях, если указанные нормативные правовые акты регулируют отношения, связанные с осуществлением трансграничной передачи персональных данных, обработкой специальных категорий персональных данных, биометрических персональных данных, персональных данных несовершеннолетних, предоставлением, распространением персональных данных, полученных в результате обезличивания. Срок указанного согласования не может превышать тридцать дней с даты поступления соответствующего нормативного правового акта в уполномоченный орган по защите прав субъектов персональных данных.\n",
            "4. Если международным договором Российской Федерации установлены иные правила, чем те, которые предусмотрены настоящим Федеральным законом, применяются правила международного договора.\n",
            "5. Решения межгосударственных органов, принятые на основании положений международных договоров Российской Федерации в их истолковании, противоречащем Конституции Российской Федерации, не подлежат исполнению в Российской Федерации. Такое противоречие может быть установлено в порядке, определенном федеральным конституционным законом.  \n",
            "Отрывок документа №2\n",
            "=====================Целью настоящего Федерального закона является обеспечение защиты прав и свобод человека и гражданина при обработке его персональных данных, в том числе защиты прав на неприкосновенность частной жизни, личную и семейную тайну.  \n",
            "Отрывок документа №3\n",
            "=====================1. Лица, виновные в нарушении требований настоящего Федерального закона, несут предусмотренную законодательством Российской Федерации ответственность.\n",
            "2. Моральный вред, причиненный субъекту персональных данных вследствие нарушения его прав, нарушения правил обработки персональных данных, установленных настоящим Федеральным законом, а также требований к защите персональных данных, установленных в соответствии с настоящим Федеральным законом, подлежит возмещению в соответствии с законодательством Российской Федерации. Возмещение морального вреда осуществляется независимо от возмещения имущественного вреда и понесенных субъектом персональных данных убытков.  \n",
            "Отрывок документа №4\n",
            "=====================1. Настоящим Федеральным законом регулируются отношения, связанные с обработкой персональных данных, осуществляемой федеральными органами государственной власти, органами государственной власти субъектов Российской Федерации, иными государственными органами (далее - государственные органы), органами местного самоуправления, иными муниципальными органами (далее - муниципальные органы), юридическими лицами и физическими лицами с использованием средств автоматизации, в том числе в информационно-телекоммуникационных сетях, или без использования таких средств, если обработка персональных данных без использования таких средств соответствует характеру действий (операций), совершаемых с персональными данными с использованием средств автоматизации, то есть позволяет осуществлять в соответствии с заданным алгоритмом поиск персональных данных, зафиксированных на материальном носителе и содержащихся в картотеках или иных систематизированных собраниях персональных данных, и (или) доступ к таким персональным данным.\n",
            "1.1. Положения настоящего Федерального закона применяются к обработке персональных данных граждан Российской Федерации, осуществляемой иностранными юридическими лицами или иностранными физическими лицами, на основании договора, стороной которого являются граждане Российской Федерации, иных соглашений между иностранными юридическими лицами, иностранными физическими лицами и гражданами Российской Федерации либо на основании согласия гражданина Российской Федерации на обработку его персональных данных.\n",
            "2. Действие настоящего Федерального закона не распространяется на отношения, возникающие при:\n",
            "1) обработке персональных данных физическими лицами исключительно для личных и семейных нужд, если при этом не нарушаются права субъектов персональных данных;\n",
            "2) организации хранения, комплектования, учета и использования содержащих персональные данные документов Архивного фонда Российской Федерации и других архивных документов в соответствии с законодательством об архивном деле в Российской Федерации;\n",
            "4) обработке персональных данных, отнесенных в установленном порядке к сведениям, составляющим государственную тайну;\n",
            "3. Предоставление, распространение, передача и получение информации о деятельности судов в Российской Федерации, содержащей персональные данные, ведение и использование информационных систем и информационно-телекоммуникационных сетей в целях создания условий для доступа к указанной информации осуществляются в соответствии с Федеральным законом от 22 декабря 2008 года N 262-ФЗ \"Об обеспечении доступа к информации о деятельности судов в Российской Федерации\".\n",
            "(часть 3 введена Федеральным законом от 29.07.2017 N 223-ФЗ)\n",
            "\n",
            "\n",
            " ===========================================: \n",
            "Я понимаю вашу позицию, однако важно отметить, что соблюдение законодательства\n",
            "является обязательным. Согласно Федеральному закону о персональных данных, лица,\n",
            "виновные в нарушении требований этого закона, несут ответственность, а также\n",
            "могут быть обязаны возместить моральный вред, причиненный нарушением прав\n",
            "субъектов персональных данных (статья 3, часть 1 и 2).\n",
            "\n",
            "Если у вас есть конкретные вопросы или ситуации, касающиеся ЖКХ, пожалуйста,\n",
            "дайте знать, и я постараюсь помочь!\n",
            "\n",
            "Ответ основан на документе: #ФЗ от 27_07_2006 N 152-ФЗ - О персональных данных,\n",
            "Источник в документе не определен.\n"
          ]
        }
      ]
    },
    {
      "cell_type": "code",
      "source": [
        "# Получите название документа (например, из FILE_PATH)\n",
        "document_title = os.path.basename(FILE_PATH)\n",
        "\n",
        "# вопрос пользователя\n",
        "topic = \"Мне не нравится этот закон\"\n",
        "ans = answer_index(system, topic, db, document_title)  # Передаем document_title\n",
        "print(format_text(ans))"
      ],
      "metadata": {
        "colab": {
          "base_uri": "https://localhost:8080/"
        },
        "outputId": "123ba724-d6b6-4653-b0f4-579f48d2e8f0",
        "id": "Hn5l_AtAf-Ia"
      },
      "execution_count": null,
      "outputs": [
        {
          "output_type": "stream",
          "name": "stdout",
          "text": [
            "\n",
            " ===========================================: \n",
            "message_content :\n",
            " ======================================== \n",
            " \n",
            "Отрывок документа №1\n",
            "=====================Целью настоящего Федерального закона является обеспечение защиты прав и свобод человека и гражданина при обработке его персональных данных, в том числе защиты прав на неприкосновенность частной жизни, личную и семейную тайну.  \n",
            "Отрывок документа №2\n",
            "=====================1. Законодательство Российской Федерации в области персональных данных основывается на Конституции Российской Федерации и международных договорах Российской Федерации и состоит из настоящего Федерального закона и других определяющих случаи и особенности обработки персональных данных федеральных законов.\n",
            "2. На основании и во исполнение федеральных законов государственные органы, Банк России, органы местного самоуправления в пределах своих полномочий могут принимать нормативные правовые акты, нормативные акты, правовые акты (далее - нормативные правовые акты) по отдельным вопросам, касающимся обработки персональных данных. Такие акты не могут содержать положения, ограничивающие права субъектов персональных данных, устанавливающие не предусмотренные федеральными законами ограничения деятельности операторов или возлагающие на операторов не предусмотренные федеральными законами обязанности, и подлежат официальному опубликованию.\n",
            "3. Особенности обработки персональных данных, осуществляемой без использования средств автоматизации, могут быть установлены федеральными законами и иными нормативными правовыми актами Российской Федерации с учетом положений настоящего Федерального закона.\n",
            "3.1. Нормативные правовые акты, принимаемые в соответствии с частью 2 настоящей статьи, подлежат обязательному согласованию с уполномоченным органом по защите прав субъектов персональных данных в случаях, если указанные нормативные правовые акты регулируют отношения, связанные с осуществлением трансграничной передачи персональных данных, обработкой специальных категорий персональных данных, биометрических персональных данных, персональных данных несовершеннолетних, предоставлением, распространением персональных данных, полученных в результате обезличивания. Срок указанного согласования не может превышать тридцать дней с даты поступления соответствующего нормативного правового акта в уполномоченный орган по защите прав субъектов персональных данных.\n",
            "4. Если международным договором Российской Федерации установлены иные правила, чем те, которые предусмотрены настоящим Федеральным законом, применяются правила международного договора.\n",
            "5. Решения межгосударственных органов, принятые на основании положений международных договоров Российской Федерации в их истолковании, противоречащем Конституции Российской Федерации, не подлежат исполнению в Российской Федерации. Такое противоречие может быть установлено в порядке, определенном федеральным конституционным законом.  \n",
            "Отрывок документа №3\n",
            "=====================1. Настоящим Федеральным законом регулируются отношения, связанные с обработкой персональных данных, осуществляемой федеральными органами государственной власти, органами государственной власти субъектов Российской Федерации, иными государственными органами (далее - государственные органы), органами местного самоуправления, иными муниципальными органами (далее - муниципальные органы), юридическими лицами и физическими лицами с использованием средств автоматизации, в том числе в информационно-телекоммуникационных сетях, или без использования таких средств, если обработка персональных данных без использования таких средств соответствует характеру действий (операций), совершаемых с персональными данными с использованием средств автоматизации, то есть позволяет осуществлять в соответствии с заданным алгоритмом поиск персональных данных, зафиксированных на материальном носителе и содержащихся в картотеках или иных систематизированных собраниях персональных данных, и (или) доступ к таким персональным данным.\n",
            "1.1. Положения настоящего Федерального закона применяются к обработке персональных данных граждан Российской Федерации, осуществляемой иностранными юридическими лицами или иностранными физическими лицами, на основании договора, стороной которого являются граждане Российской Федерации, иных соглашений между иностранными юридическими лицами, иностранными физическими лицами и гражданами Российской Федерации либо на основании согласия гражданина Российской Федерации на обработку его персональных данных.\n",
            "2. Действие настоящего Федерального закона не распространяется на отношения, возникающие при:\n",
            "1) обработке персональных данных физическими лицами исключительно для личных и семейных нужд, если при этом не нарушаются права субъектов персональных данных;\n",
            "2) организации хранения, комплектования, учета и использования содержащих персональные данные документов Архивного фонда Российской Федерации и других архивных документов в соответствии с законодательством об архивном деле в Российской Федерации;\n",
            "4) обработке персональных данных, отнесенных в установленном порядке к сведениям, составляющим государственную тайну;\n",
            "3. Предоставление, распространение, передача и получение информации о деятельности судов в Российской Федерации, содержащей персональные данные, ведение и использование информационных систем и информационно-телекоммуникационных сетей в целях создания условий для доступа к указанной информации осуществляются в соответствии с Федеральным законом от 22 декабря 2008 года N 262-ФЗ \"Об обеспечении доступа к информации о деятельности судов в Российской Федерации\".\n",
            "(часть 3 введена Федеральным законом от 29.07.2017 N 223-ФЗ)  \n",
            "Отрывок документа №4\n",
            "=====================1. Настоящий Федеральный закон вступает в силу по истечении ста восьмидесяти дней после дня его официального опубликования.\n",
            "2. После дня вступления в силу настоящего Федерального закона обработка персональных данных, включенных в информационные системы персональных данных до дня его вступления в силу, осуществляется в соответствии с настоящим Федеральным законом.\n",
            "2.1. Операторы, которые осуществляли обработку персональных данных до 1 июля 2011 года, обязаны представить в уполномоченный орган по защите прав субъектов персональных данных сведения, указанные в пунктах 5, 7.1, 10 и 11 части 3 статьи 22 настоящего Федерального закона, не позднее 1 января 2013 года.\n",
            "4. Операторы, которые осуществляют обработку персональных данных до дня вступления в силу настоящего Федерального закона и продолжают осуществлять такую обработку после дня его вступления в силу, обязаны направить в уполномоченный орган по защите прав субъектов персональных данных, за исключением случаев, предусмотренных частью 2 статьи 22 настоящего Федерального закона, уведомление, предусмотренное частью 3 статьи 22 настоящего Федерального закона, не позднее 1 января 2008 года.\n",
            "5. Отношения, связанные с обработкой персональных данных, осуществляемой государственными органами, юридическими лицами, физическими лицами при предоставлении государственных и муниципальных услуг, исполнении государственных и муниципальных функций в субъекте Российской Федерации - городе федерального значения Москве, регулируются настоящим Федеральным законом, если иное не предусмотрено Федеральным законом \"Об особенностях регулирования отдельных правоотношений в связи с присоединением к субъекту Российской Федерации - городу федерального значения Москве территорий и о внесении изменений в отдельные законодательные акты Российской Федерации\".\n",
            "\n",
            "\n",
            " ===========================================: \n",
            "Понимаю ваше недовольство. Однако, согласно Федеральному закону о персональных\n",
            "данных, его основная цель заключается в обеспечении защиты прав и свобод\n",
            "человека и гражданина при обработке его персональных данных (статья 1, часть 1).\n",
            "Этот закон направлен на защиту неприкосновенности частной жизни и личной тайны\n",
            "граждан. Если у вас есть конкретные вопросы или предложения по улучшению, я\n",
            "готов помочь вам разобраться.\n",
            "\n",
            "Ответ основан на документе: #ФЗ от 27_07_2006 N 152-ФЗ - О персональных данных,\n",
            "Источник в документе не определен.\n"
          ]
        }
      ]
    },
    {
      "cell_type": "code",
      "source": [
        "# Получите название документа (например, из FILE_PATH)\n",
        "document_title = os.path.basename(FILE_PATH)\n",
        "\n",
        "# вопрос пользователя\n",
        "topic = \"Пошёл ты\"\n",
        "ans = answer_index(system, topic, db, document_title)  # Передаем document_title\n",
        "print(format_text(ans))"
      ],
      "metadata": {
        "colab": {
          "base_uri": "https://localhost:8080/"
        },
        "outputId": "fe36616f-9caa-4e5e-88c5-ffbf0926e4a1",
        "id": "ADhc_VqBgU-c"
      },
      "execution_count": null,
      "outputs": [
        {
          "output_type": "stream",
          "name": "stdout",
          "text": [
            "\n",
            " ===========================================: \n",
            "message_content :\n",
            " ======================================== \n",
            " \n",
            "Отрывок документа №1\n",
            "=====================Операторы и иные лица, получившие доступ к персональным данным, обязаны не раскрывать третьим лицам и не распространять персональные данные без согласия субъекта персональных данных, если иное не предусмотрено федеральным законом.  \n",
            "Отрывок документа №2\n",
            "=====================1. Обработка персональных данных в целях продвижения товаров, работ, услуг на рынке путем осуществления прямых контактов с потенциальным потребителем с помощью средств связи, а также в целях политической агитации допускается только при условии предварительного согласия субъекта персональных данных. Указанная обработка персональных данных признается осуществляемой без предварительного согласия субъекта персональных данных, если оператор не докажет, что такое согласие было получено.\n",
            "2. Оператор обязан немедленно прекратить по требованию субъекта персональных данных обработку его персональных данных, указанную в части 1 настоящей статьи.  \n",
            "Отрывок документа №3\n",
            "=====================1. Настоящим Федеральным законом регулируются отношения, связанные с обработкой персональных данных, осуществляемой федеральными органами государственной власти, органами государственной власти субъектов Российской Федерации, иными государственными органами (далее - государственные органы), органами местного самоуправления, иными муниципальными органами (далее - муниципальные органы), юридическими лицами и физическими лицами с использованием средств автоматизации, в том числе в информационно-телекоммуникационных сетях, или без использования таких средств, если обработка персональных данных без использования таких средств соответствует характеру действий (операций), совершаемых с персональными данными с использованием средств автоматизации, то есть позволяет осуществлять в соответствии с заданным алгоритмом поиск персональных данных, зафиксированных на материальном носителе и содержащихся в картотеках или иных систематизированных собраниях персональных данных, и (или) доступ к таким персональным данным.\n",
            "1.1. Положения настоящего Федерального закона применяются к обработке персональных данных граждан Российской Федерации, осуществляемой иностранными юридическими лицами или иностранными физическими лицами, на основании договора, стороной которого являются граждане Российской Федерации, иных соглашений между иностранными юридическими лицами, иностранными физическими лицами и гражданами Российской Федерации либо на основании согласия гражданина Российской Федерации на обработку его персональных данных.\n",
            "2. Действие настоящего Федерального закона не распространяется на отношения, возникающие при:\n",
            "1) обработке персональных данных физическими лицами исключительно для личных и семейных нужд, если при этом не нарушаются права субъектов персональных данных;\n",
            "2) организации хранения, комплектования, учета и использования содержащих персональные данные документов Архивного фонда Российской Федерации и других архивных документов в соответствии с законодательством об архивном деле в Российской Федерации;\n",
            "4) обработке персональных данных, отнесенных в установленном порядке к сведениям, составляющим государственную тайну;\n",
            "3. Предоставление, распространение, передача и получение информации о деятельности судов в Российской Федерации, содержащей персональные данные, ведение и использование информационных систем и информационно-телекоммуникационных сетей в целях создания условий для доступа к указанной информации осуществляются в соответствии с Федеральным законом от 22 декабря 2008 года N 262-ФЗ \"Об обеспечении доступа к информации о деятельности судов в Российской Федерации\".\n",
            "(часть 3 введена Федеральным законом от 29.07.2017 N 223-ФЗ)  \n",
            "Отрывок документа №4\n",
            "=====================1. Оператор, являющийся юридическим лицом, назначает лицо, ответственное за организацию обработки персональных данных.\n",
            "2. Лицо, ответственное за организацию обработки персональных данных, получает указания непосредственно от исполнительного органа организации, являющейся оператором, и подотчетно ему.\n",
            "3. Оператор обязан предоставлять лицу, ответственному за организацию обработки персональных данных, сведения, указанные в части 3 статьи 22 настоящего Федерального закона.\n",
            "4. Лицо, ответственное за организацию обработки персональных данных, в частности, обязано:\n",
            "1) осуществлять внутренний контроль за соблюдением оператором и его работниками законодательства Российской Федерации о персональных данных, в том числе требований к защите персональных данных;\n",
            "2) доводить до сведения работников оператора положения законодательства Российской Федерации о персональных данных, локальных актов по вопросам обработки персональных данных, требований к защите персональных данных;\n",
            "3) организовывать прием и обработку обращений и запросов субъектов персональных данных или их представителей и (или) осуществлять контроль за приемом и обработкой таких обращений и запросов.\n",
            "\n",
            "\n",
            " ===========================================: \n",
            "Понимаю ваше недовольство. Если у вас есть вопросы по поводу ЖКХ или услуг\n",
            "нашего жилого комплекса, пожалуйста, поделитесь, и я постараюсь помочь вам!\n",
            "\n",
            "Ответ основан на документе: #ФЗ от 27_07_2006 N 152-ФЗ - О персональных данных,\n",
            "Источник в документе не определен.\n"
          ]
        }
      ]
    }
  ]
}